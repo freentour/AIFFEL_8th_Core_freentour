{
 "cells": [
  {
   "cell_type": "code",
   "execution_count": 1,
   "metadata": {},
   "outputs": [
    {
     "name": "stdout",
     "output_type": "stream",
     "text": [
      "- 최초 입력문 : 우영우\n",
      "- 소문자로 변경된 입력문 : 우영우\n",
      "- 공백과 특수문자가 모두 제거된 입력문 : 우영우\n",
      "- 뒤집어진 결과 : 우영우\n",
      "회문이 맞습니다.\n",
      "----------\n",
      "프로그램을 종료합니다.\n"
     ]
    }
   ],
   "source": [
    "# 회문 여부 판단 프로그램\n",
    "import re\n",
    "\n",
    "while True:\n",
    "    input_str = input(\"문장을 입력해 주세요. (종료:x) : \")\n",
    "\n",
    "    if input_str in ['x', 'X']:\n",
    "        print(\"프로그램을 종료합니다.\")\n",
    "        break\n",
    "\n",
    "    lower_cased_str = input_str.lower()\n",
    "\n",
    "    # 다음 문자만 제거 : 공백,?,!,콤마(,),작은따옴표,큰따옴표,마침표(.)\n",
    "    pattern = r\"[ ?!,'\\\"\\.]\"\n",
    "    eliminated_str = re.sub(pattern, '', lower_cased_str)\n",
    "    \n",
    "    reversed_str = eliminated_str[::-1]     # 슬라이싱으로 문자열 뒤집기\n",
    "\n",
    "    print(f\"- 최초 입력문 : {input_str}\")\n",
    "    print(f\"- 소문자로 변경된 입력문 : {lower_cased_str}\")\n",
    "    print(f\"- 공백과 특수문자가 모두 제거된 입력문 : {eliminated_str}\")\n",
    "    print(f\"- 뒤집어진 결과 : {reversed_str}\")\n",
    "\n",
    "    if reversed_str == eliminated_str:\n",
    "        print(\"회문이 맞습니다.\")\n",
    "    else:\n",
    "        print(\"회문이 아닙니다.\")\n",
    "    \n",
    "    print(\"-\"*10)"
   ]
  }
 ],
 "metadata": {
  "kernelspec": {
   "display_name": "venv",
   "language": "python",
   "name": "python3"
  },
  "language_info": {
   "codemirror_mode": {
    "name": "ipython",
    "version": 3
   },
   "file_extension": ".py",
   "mimetype": "text/x-python",
   "name": "python",
   "nbconvert_exporter": "python",
   "pygments_lexer": "ipython3",
   "version": "3.11.4"
  }
 },
 "nbformat": 4,
 "nbformat_minor": 2
}
