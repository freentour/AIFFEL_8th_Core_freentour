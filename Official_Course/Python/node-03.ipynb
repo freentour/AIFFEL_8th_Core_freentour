{
 "cells": [
  {
   "cell_type": "code",
   "execution_count": 71,
   "metadata": {},
   "outputs": [
    {
     "data": {
      "text/plain": [
       "<generator object <genexpr> at 0x000001C851D19630>"
      ]
     },
     "execution_count": 71,
     "metadata": {},
     "output_type": "execute_result"
    }
   ],
   "source": [
    "result = (x for x in range(1, 11))     # tuple로 형변환해야 튜플 객체가 생성됨. \n",
    "type(result)\n",
    "\n",
    "# next(result)\n",
    "# next(result)\n",
    "result.__iter__()\n",
    "# result.__next__()\n",
    "\n",
    "# all([x for x in range(1, 11)])\n",
    "# all(x for x in range(1, 11))"
   ]
  },
  {
   "cell_type": "code",
   "execution_count": 29,
   "metadata": {},
   "outputs": [
    {
     "ename": "StopIteration",
     "evalue": "",
     "output_type": "error",
     "traceback": [
      "\u001b[1;31m---------------------------------------------------------------------------\u001b[0m",
      "\u001b[1;31mStopIteration\u001b[0m                             Traceback (most recent call last)",
      "Cell \u001b[1;32mIn[29], line 1\u001b[0m\n\u001b[1;32m----> 1\u001b[0m \u001b[43mresult\u001b[49m\u001b[38;5;241;43m.\u001b[39;49m\u001b[38;5;21;43m__next__\u001b[39;49m\u001b[43m(\u001b[49m\u001b[43m)\u001b[49m\n",
      "\u001b[1;31mStopIteration\u001b[0m: "
     ]
    }
   ],
   "source": [
    "result.__next__()"
   ]
  },
  {
   "cell_type": "code",
   "execution_count": 32,
   "metadata": {},
   "outputs": [
    {
     "name": "stdout",
     "output_type": "stream",
     "text": [
      "A : 65\n",
      "I : 73\n",
      "F : 70\n",
      "F : 70\n",
      "E : 69\n",
      "L : 76\n"
     ]
    }
   ],
   "source": [
    "# 문자열 타입도 Iterable 객체임. --> for 문을 통해 한 문자씩 순회하는 것이 가능함. \n",
    "aiffel = \"AIFFEL\"\n",
    "\n",
    "for x in aiffel:\n",
    "    print(f\"{x} : {ord(x)}\")"
   ]
  },
  {
   "cell_type": "code",
   "execution_count": 79,
   "metadata": {},
   "outputs": [
    {
     "data": {
      "text/plain": [
       "'3'"
      ]
     },
     "execution_count": 79,
     "metadata": {},
     "output_type": "execute_result"
    }
   ],
   "source": [
    "# 문자열 타입 자체는 Iterable 객체. 하지만, Iterator 객체는 아님. \n",
    "# 하지만, Iterable 객체에서 '__iter__()' 매직 메소드를 호출하면 Iterator 객체를 생성해 리턴함. \n",
    "# [주의] Iterable 객체는 Iterator 객체가 가지고 있는 '__next__()' 매직 메소드는 가지고 있지 않음. \n",
    "\"\"\"\n",
    "Iterable 객체로부터 Iterator 객체를 생성하는 두 가지 방법\n",
    "1. '__iter__()' 매직 메소드 호출\n",
    "2. iter(Iterable 객체명) 함수 호출\n",
    "\"\"\"\n",
    "a_int = '123'\n",
    "# iter_obj = iter(a_int)\n",
    "iter_obj = a_int.__iter__()\n",
    "next(iter_obj)\n",
    "iter_obj.__next__()\n",
    "next(iter_obj)"
   ]
  },
  {
   "cell_type": "code",
   "execution_count": 65,
   "metadata": {},
   "outputs": [
    {
     "data": {
      "text/plain": [
       "(0, 1)"
      ]
     },
     "execution_count": 65,
     "metadata": {},
     "output_type": "execute_result"
    }
   ],
   "source": [
    "temp_list = [1,2,3,4,5]\n",
    "enu_tuple = enumerate(temp_list)    # enumerate 함수는 결과값으로 enumerator 객체를 리턴하는데, 이 객체도 iterator 객체임.\n",
    "enu_tuple.__next__()"
   ]
  },
  {
   "cell_type": "code",
   "execution_count": 66,
   "metadata": {},
   "outputs": [
    {
     "data": {
      "text/plain": [
       "(1, 2)"
      ]
     },
     "execution_count": 66,
     "metadata": {},
     "output_type": "execute_result"
    }
   ],
   "source": [
    "enu_tuple.__next__()"
   ]
  },
  {
   "cell_type": "code",
   "execution_count": 74,
   "metadata": {},
   "outputs": [
    {
     "data": {
      "text/plain": [
       "(2, 3)"
      ]
     },
     "execution_count": 74,
     "metadata": {},
     "output_type": "execute_result"
    }
   ],
   "source": [
    "next(enu_tuple)"
   ]
  },
  {
   "cell_type": "code",
   "execution_count": 70,
   "metadata": {},
   "outputs": [
    {
     "ename": "TypeError",
     "evalue": "'list' object is not an iterator",
     "output_type": "error",
     "traceback": [
      "\u001b[1;31m---------------------------------------------------------------------------\u001b[0m",
      "\u001b[1;31mTypeError\u001b[0m                                 Traceback (most recent call last)",
      "Cell \u001b[1;32mIn[70], line 1\u001b[0m\n\u001b[1;32m----> 1\u001b[0m \u001b[38;5;28;43mnext\u001b[39;49m\u001b[43m(\u001b[49m\u001b[43mtemp_list\u001b[49m\u001b[43m)\u001b[49m\n",
      "\u001b[1;31mTypeError\u001b[0m: 'list' object is not an iterator"
     ]
    }
   ],
   "source": [
    "next(temp_list)"
   ]
  },
  {
   "cell_type": "code",
   "execution_count": 72,
   "metadata": {},
   "outputs": [
    {
     "name": "stdout",
     "output_type": "stream",
     "text": [
      "472\n",
      "4216\n",
      "208\n",
      "208\n"
     ]
    }
   ],
   "source": [
    "# Iterable 객체와 Generator 객체간의 메모리 사이즈 비교\n",
    "import sys\n",
    "\n",
    "# list\n",
    "print(sys.getsizeof( [i for i in range(100) if i % 2] ))\n",
    "print(sys.getsizeof( [i for i in range(1000) if i % 2] ))\n",
    "\n",
    "# generator\n",
    "print(sys.getsizeof( (i for i in range(100) if i % 2) ))\n",
    "print(sys.getsizeof( (i for i in range(1000) if i % 2) ))"
   ]
  },
  {
   "cell_type": "code",
   "execution_count": 73,
   "metadata": {},
   "outputs": [
    {
     "name": "stdout",
     "output_type": "stream",
     "text": [
      "48\n",
      "48\n",
      "208\n",
      "208\n"
     ]
    }
   ],
   "source": [
    "# Iterable 객체가 아닌 Iterator 객체와 Generator 객체간의 메모리 사이즈 비교\n",
    "import sys\n",
    "\n",
    "# list\n",
    "print(sys.getsizeof( iter([i for i in range(100) if i % 2]) ))\n",
    "print(sys.getsizeof( iter([i for i in range(1000) if i % 2]) ))\n",
    "\n",
    "# generator\n",
    "print(sys.getsizeof( (i for i in range(100) if i % 2) ))\n",
    "print(sys.getsizeof( (i for i in range(1000) if i % 2) ))"
   ]
  }
 ],
 "metadata": {
  "kernelspec": {
   "display_name": "venv",
   "language": "python",
   "name": "python3"
  },
  "language_info": {
   "codemirror_mode": {
    "name": "ipython",
    "version": 3
   },
   "file_extension": ".py",
   "mimetype": "text/x-python",
   "name": "python",
   "nbconvert_exporter": "python",
   "pygments_lexer": "ipython3",
   "version": "3.11.4"
  }
 },
 "nbformat": 4,
 "nbformat_minor": 2
}
