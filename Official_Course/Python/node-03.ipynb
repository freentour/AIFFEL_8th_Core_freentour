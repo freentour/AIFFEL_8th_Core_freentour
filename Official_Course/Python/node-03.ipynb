{
 "cells": [
  {
   "cell_type": "code",
   "execution_count": 94,
   "metadata": {},
   "outputs": [
    {
     "name": "stdout",
     "output_type": "stream",
     "text": [
      "<class 'generator'>\n",
      "<class 'tuple'>\n",
      "1\n",
      "2\n",
      "<class 'generator'>\n",
      "True\n",
      "True\n",
      "<class 'tuple_iterator'>\n",
      "Iterator :  ['__class__', '__delattr__', '__dir__', '__doc__', '__eq__', '__format__', '__ge__', '__getattribute__', '__getstate__', '__gt__', '__hash__', '__init__', '__init_subclass__', '__iter__', '__le__', '__length_hint__', '__lt__', '__ne__', '__new__', '__next__', '__reduce__', '__reduce_ex__', '__repr__', '__setattr__', '__setstate__', '__sizeof__', '__str__', '__subclasshook__']\n",
      "Generator :  ['__class__', '__del__', '__delattr__', '__dir__', '__doc__', '__eq__', '__format__', '__ge__', '__getattribute__', '__getstate__', '__gt__', '__hash__', '__init__', '__init_subclass__', '__iter__', '__le__', '__lt__', '__name__', '__ne__', '__new__', '__next__', '__qualname__', '__reduce__', '__reduce_ex__', '__repr__', '__setattr__', '__sizeof__', '__str__', '__subclasshook__', 'close', 'gi_code', 'gi_frame', 'gi_running', 'gi_suspended', 'gi_yieldfrom', 'send', 'throw']\n"
     ]
    }
   ],
   "source": [
    "# 컴프리헨션을 튜플 기호인 소괄호로 감싸면 튜플 객체가 생성되는 것이 아니라 generator 객체가 생성됨. \n",
    "result_gen = (x for x in range(1, 11))     # 이 상태에서는 튜플 객체가 아닌 generator 객체가 생성됨. \n",
    "result_tuple = tuple(x for x in range(1, 11))     # tuple() 함수로 형변환 시켜야 튜플 객체가 생성됨. \n",
    "print(type(result_gen))\n",
    "print(type(result_tuple))\n",
    "\n",
    "# generator 역시 '__next__()' 메소드와 next() 함수 모두 사용 가능함. \n",
    "print(next(result_gen))\n",
    "print(result_gen.__next__())\n",
    "\n",
    "# generator 객체는 물론 '__iter__()' 매직 메소드도 사용 가능함. \n",
    "# 하지만, 리턴 타입은 Iterator 객체가 아니라 자기 자신인 generator 객체 타입임. \n",
    "result_iter = result_gen.__iter__()\n",
    "print(type(result_iter))\n",
    "\n",
    "# result_gen과 result_iter 비교 \n",
    "print(result_gen == result_iter)\n",
    "print(result_gen is result_iter)\n",
    "\n",
    "# 튜플 통해서 테스트용 Iterator 객체 생성\n",
    "test_tuple = (1,2,3,4,5)\n",
    "test_iter = iter(test_tuple)\n",
    "print(type(test_iter))\n",
    "\n",
    "# Iterator 객체와 generator 객체의 dir 비교\n",
    "# 비교 결과 : Iterator에 있는 대부분의 매직 메소드는 모두 Geneartor에도 포함되어 있음. ('__length_hint__', '__setstate__' 이렇게 단 두개만 Iterator에는 있는데 Generator에는 없음.) 그리고, Iterator는 오직 매직 메소드만 포함하고 있음. 그리고, Generator에는 Iterator에 없는 매직 메소드 일부와 일반 메소드까지 추가되어 있음. (마치 인터페이스인 Iterator를 상속받아 구현한 것 같은 형태이긴 함. 진짜 이런건지는 모르겠지만)\n",
    "print(\"Iterator : \", dir(test_iter))\n",
    "print(\"Generator : \", dir(result_gen))\n",
    "\n",
    "# all([x for x in range(1, 11)])\n",
    "# all(x for x in range(1, 11))"
   ]
  },
  {
   "cell_type": "code",
   "execution_count": 29,
   "metadata": {},
   "outputs": [
    {
     "ename": "StopIteration",
     "evalue": "",
     "output_type": "error",
     "traceback": [
      "\u001b[1;31m---------------------------------------------------------------------------\u001b[0m",
      "\u001b[1;31mStopIteration\u001b[0m                             Traceback (most recent call last)",
      "Cell \u001b[1;32mIn[29], line 1\u001b[0m\n\u001b[1;32m----> 1\u001b[0m \u001b[43mresult\u001b[49m\u001b[38;5;241;43m.\u001b[39;49m\u001b[38;5;21;43m__next__\u001b[39;49m\u001b[43m(\u001b[49m\u001b[43m)\u001b[49m\n",
      "\u001b[1;31mStopIteration\u001b[0m: "
     ]
    }
   ],
   "source": [
    "result.__next__()"
   ]
  },
  {
   "cell_type": "code",
   "execution_count": 100,
   "metadata": {},
   "outputs": [
    {
     "name": "stdout",
     "output_type": "stream",
     "text": [
      "1959879377808 1959879377808\n",
      "1959879747856 1959879377808\n"
     ]
    }
   ],
   "source": [
    "a_str = \"김주현\"\n",
    "b_str = a_str\n",
    "\n",
    "print(id(a_str), id(b_str))\n",
    "\n",
    "a_str = \"김순주\"    # 새로운 문자열이 할당 --> 새로운 문자열 객체에 해당하는 새로운 메모리 주소가 a_str 변수에 바인딩됨. \n",
    "b_str   # b_str은 기존 메모리 주소를 그대로 가지고 있음. \n",
    "\n",
    "print(id(a_str), id(b_str))"
   ]
  },
  {
   "cell_type": "code",
   "execution_count": 32,
   "metadata": {},
   "outputs": [
    {
     "name": "stdout",
     "output_type": "stream",
     "text": [
      "A : 65\n",
      "I : 73\n",
      "F : 70\n",
      "F : 70\n",
      "E : 69\n",
      "L : 76\n"
     ]
    }
   ],
   "source": [
    "# 문자열 타입도 Iterable 객체임. --> for 문을 통해 한 문자씩 순회하는 것이 가능함. \n",
    "aiffel = \"AIFFEL\"\n",
    "\n",
    "for x in aiffel:\n",
    "    print(f\"{x} : {ord(x)}\")"
   ]
  },
  {
   "cell_type": "code",
   "execution_count": 79,
   "metadata": {},
   "outputs": [
    {
     "data": {
      "text/plain": [
       "'3'"
      ]
     },
     "execution_count": 79,
     "metadata": {},
     "output_type": "execute_result"
    }
   ],
   "source": [
    "# 문자열 타입 자체는 Iterable 객체. 하지만, Iterator 객체는 아님. \n",
    "# 하지만, Iterable 객체에서 '__iter__()' 매직 메소드를 호출하면 Iterator 객체를 생성해 리턴함. \n",
    "# [주의] Iterable 객체는 Iterator 객체가 가지고 있는 '__next__()' 매직 메소드는 가지고 있지 않음. \n",
    "\"\"\"\n",
    "Iterable 객체로부터 Iterator 객체를 생성하는 두 가지 방법\n",
    "1. '__iter__()' 매직 메소드 호출\n",
    "2. iter(Iterable 객체명) 함수 호출\n",
    "\"\"\"\n",
    "a_int = '123'\n",
    "# iter_obj = iter(a_int)\n",
    "iter_obj = a_int.__iter__()\n",
    "next(iter_obj)\n",
    "iter_obj.__next__()\n",
    "next(iter_obj)"
   ]
  },
  {
   "cell_type": "code",
   "execution_count": 82,
   "metadata": {},
   "outputs": [
    {
     "name": "stdout",
     "output_type": "stream",
     "text": [
      "<class 'enumerate'>\n"
     ]
    },
    {
     "data": {
      "text/plain": [
       "(2, 3)"
      ]
     },
     "execution_count": 82,
     "metadata": {},
     "output_type": "execute_result"
    }
   ],
   "source": [
    "# enumerate 함수는 enumerate 객체를 생성해 리턴함. \n",
    "# enumerate 객체도 Iterator 객체임. 즉, next() 함수 호출 가능!\n",
    "temp_list = [1,2,3,4,5]\n",
    "enu_tuple = enumerate(temp_list)\n",
    "print(type(enu_tuple))\n",
    "enu_tuple.__next__()    # 첫번째 호출\n",
    "next(enu_tuple)         # 두번째 호출\n",
    "enu_tuple.__next__()    # 세번째 호출"
   ]
  },
  {
   "cell_type": "code",
   "execution_count": 83,
   "metadata": {},
   "outputs": [
    {
     "ename": "TypeError",
     "evalue": "'list' object is not an iterator",
     "output_type": "error",
     "traceback": [
      "\u001b[1;31m---------------------------------------------------------------------------\u001b[0m",
      "\u001b[1;31mTypeError\u001b[0m                                 Traceback (most recent call last)",
      "Cell \u001b[1;32mIn[83], line 2\u001b[0m\n\u001b[0;32m      1\u001b[0m \u001b[38;5;66;03m# Iterable 객체인 리스트 타입은 next() 함수를 사용할 수 없음!\u001b[39;00m\n\u001b[1;32m----> 2\u001b[0m \u001b[38;5;28;43mnext\u001b[39;49m\u001b[43m(\u001b[49m\u001b[43mtemp_list\u001b[49m\u001b[43m)\u001b[49m\n",
      "\u001b[1;31mTypeError\u001b[0m: 'list' object is not an iterator"
     ]
    }
   ],
   "source": [
    "# Iterable 객체인 리스트 타입은 next() 함수를 사용할 수 없음!\n",
    "next(temp_list)"
   ]
  },
  {
   "cell_type": "code",
   "execution_count": 72,
   "metadata": {},
   "outputs": [
    {
     "name": "stdout",
     "output_type": "stream",
     "text": [
      "472\n",
      "4216\n",
      "208\n",
      "208\n"
     ]
    }
   ],
   "source": [
    "# Iterable 객체와 Generator 객체간의 메모리 사이즈 비교\n",
    "import sys\n",
    "\n",
    "# list\n",
    "print(sys.getsizeof( [i for i in range(100) if i % 2] ))\n",
    "print(sys.getsizeof( [i for i in range(1000) if i % 2] ))\n",
    "\n",
    "# generator\n",
    "print(sys.getsizeof( (i for i in range(100) if i % 2) ))\n",
    "print(sys.getsizeof( (i for i in range(1000) if i % 2) ))"
   ]
  },
  {
   "cell_type": "code",
   "execution_count": 73,
   "metadata": {},
   "outputs": [
    {
     "name": "stdout",
     "output_type": "stream",
     "text": [
      "48\n",
      "48\n",
      "208\n",
      "208\n"
     ]
    }
   ],
   "source": [
    "# Iterable 객체가 아닌 Iterator 객체와 Generator 객체간의 메모리 사이즈 비교\n",
    "import sys\n",
    "\n",
    "# list\n",
    "print(sys.getsizeof( iter([i for i in range(100) if i % 2]) ))\n",
    "print(sys.getsizeof( iter([i for i in range(1000) if i % 2]) ))\n",
    "\n",
    "# generator\n",
    "print(sys.getsizeof( (i for i in range(100) if i % 2) ))\n",
    "print(sys.getsizeof( (i for i in range(1000) if i % 2) ))"
   ]
  },
  {
   "cell_type": "code",
   "execution_count": 96,
   "metadata": {},
   "outputs": [
    {
     "name": "stdout",
     "output_type": "stream",
     "text": [
      "1\n",
      "2\n",
      "3\n"
     ]
    }
   ],
   "source": [
    "# 사용자 정의 클래스로 이터레이터 구현 예제\n",
    "# '__iter__()' 메소드와 '__next__()' 메소드만 구현하면 사용자 정의 이터레이터 클래스 정의 가능!\n",
    "class IterClass:\n",
    "    def __init__(self, start, last):\n",
    "        self.current = start\n",
    "        self.max = last\n",
    "\n",
    "    def __iter__(self):\n",
    "        return self\n",
    "\n",
    "    def __next__(self):\n",
    "        if self.current > self.max:\n",
    "            raise StopIteration\n",
    "        else:\n",
    "            self.current += 1\n",
    "            return self.current - 1\n",
    "\n",
    "n_list1 = IterClass(1, 10)\n",
    "print(n_list1.__next__())  # 1\n",
    "print(n_list1.__next__())  # 2\n",
    "print(next(n_list1))"
   ]
  },
  {
   "cell_type": "code",
   "execution_count": 97,
   "metadata": {},
   "outputs": [
    {
     "name": "stdout",
     "output_type": "stream",
     "text": [
      "11\n",
      "12\n",
      "13\n",
      "14\n",
      "15\n",
      "16\n",
      "17\n",
      "18\n",
      "19\n",
      "20\n"
     ]
    }
   ],
   "source": [
    "n_list2 = IterClass(11, 20)\n",
    "\n",
    "for x in n_list2:\n",
    "    print(x)"
   ]
  }
 ],
 "metadata": {
  "kernelspec": {
   "display_name": "venv",
   "language": "python",
   "name": "python3"
  },
  "language_info": {
   "codemirror_mode": {
    "name": "ipython",
    "version": 3
   },
   "file_extension": ".py",
   "mimetype": "text/x-python",
   "name": "python",
   "nbconvert_exporter": "python",
   "pygments_lexer": "ipython3",
   "version": "3.11.4"
  }
 },
 "nbformat": 4,
 "nbformat_minor": 2
}
