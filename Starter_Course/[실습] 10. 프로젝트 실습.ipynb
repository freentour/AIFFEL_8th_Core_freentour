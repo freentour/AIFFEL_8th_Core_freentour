{
 "cells": [
  {
   "cell_type": "code",
   "execution_count": 3,
   "metadata": {},
   "outputs": [
    {
     "data": {
      "text/plain": [
       "'010-12345-#####'"
      ]
     },
     "execution_count": 3,
     "metadata": {},
     "output_type": "execute_result"
    }
   ],
   "source": [
    "# 1. 전화번호 가려주는 프로그램\n",
    "numbers = \"010-12345-23456\"\n",
    "\n",
    "def change_num(nums):\n",
    "    secure_nums = nums.replace(nums[-5:], \"#####\")\n",
    "    return secure_nums\n",
    "\n",
    "change_num(numbers)"
   ]
  },
  {
   "cell_type": "code",
   "execution_count": 7,
   "metadata": {},
   "outputs": [
    {
     "data": {
      "text/plain": [
       "[1, 2, 3, 4, 5, 6, 7, 8, 9]"
      ]
     },
     "execution_count": 7,
     "metadata": {},
     "output_type": "execute_result"
    }
   ],
   "source": [
    "# 2. 리스트 평탄화\n",
    "def flatten(data):\n",
    "    output = []  # 빈 리스트를 만듭니다.\n",
    "\n",
    "    # 입력된 파라미터 data가 리스트인지부터 체크\n",
    "    if type(data) == list:\n",
    "        for item in data:\n",
    "            if type(item) == list:\n",
    "                output += flatten(item)\n",
    "                # extend 메소드를 사용해도 됨. \n",
    "                # output.extend(flatten(item))\n",
    "            else:\n",
    "                output.append(item)\n",
    "    else:\n",
    "        output.append(data)\n",
    "    \n",
    "    return output\n",
    "\n",
    "a = [[1, 2], 3, [[4, 5, 6], 7], 8, 9]\n",
    "flatten(a)"
   ]
  },
  {
   "cell_type": "code",
   "execution_count": 23,
   "metadata": {},
   "outputs": [
    {
     "data": {
      "text/plain": [
       "120.0"
      ]
     },
     "execution_count": 23,
     "metadata": {},
     "output_type": "execute_result"
    }
   ],
   "source": [
    "# 3. 10 이하 숫자만 곱해주는 함수\n",
    "def mul(*values):\n",
    "    output = 1\n",
    "\n",
    "    for num in values:\n",
    "        if num <= 10:\n",
    "            output *= num\n",
    "        else:\n",
    "            pass\n",
    "    \n",
    "    return output\n",
    "\n",
    "mul(2, 3.0, 4, 10.1, 5)"
   ]
  }
 ],
 "metadata": {
  "kernelspec": {
   "display_name": "venv",
   "language": "python",
   "name": "python3"
  },
  "language_info": {
   "codemirror_mode": {
    "name": "ipython",
    "version": 3
   },
   "file_extension": ".py",
   "mimetype": "text/x-python",
   "name": "python",
   "nbconvert_exporter": "python",
   "pygments_lexer": "ipython3",
   "version": "3.11.4"
  }
 },
 "nbformat": 4,
 "nbformat_minor": 2
}
