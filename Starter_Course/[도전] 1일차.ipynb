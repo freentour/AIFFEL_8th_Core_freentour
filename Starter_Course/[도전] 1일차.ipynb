{
 "cells": [
  {
   "cell_type": "code",
   "execution_count": 1,
   "metadata": {},
   "outputs": [
    {
     "name": "stdout",
     "output_type": "stream",
     "text": [
      "5 -1 6 0.6666666666666666\n"
     ]
    }
   ],
   "source": [
    "# 계산기 만들기\n",
    "first = int(input(\"첫번째 숫자를 입력해 주세요 : \"))\n",
    "second = int(input(\"두번째 숫자를 입력해 주세요(단, 0은 제외) : \"))\n",
    "\n",
    "if second == 0:\n",
    "    print(\"0으로 나눌 수 없습니다. 다시 입력해 주세요\")\n",
    "else:\n",
    "    print(first+second, first-second, first*second, first/second)"
   ]
  },
  {
   "cell_type": "code",
   "execution_count": 3,
   "metadata": {},
   "outputs": [
    {
     "name": "stdout",
     "output_type": "stream",
     "text": [
      "55\n"
     ]
    }
   ],
   "source": [
    "# 나이 계산기\n",
    "import datetime\n",
    "\n",
    "this_year = datetime.datetime.now().year\n",
    "birth_year = int(input())\n",
    "age = this_year - birth_year + 1\n",
    "print(age)"
   ]
  },
  {
   "cell_type": "code",
   "execution_count": 4,
   "metadata": {},
   "outputs": [
    {
     "name": "stdout",
     "output_type": "stream",
     "text": [
      "인당 가격 :  16250.0\n"
     ]
    }
   ],
   "source": [
    "# 더치페이 프로그램\n",
    "total = int(input(\"총 가격 : \"))\n",
    "persons = int(input(\"총 인원 (0은 제외) : \"))\n",
    "\n",
    "if persons == 0:\n",
    "    print(\"0으로 나눌 수 없습니다. 총 인원을 다시 입력해 주세요.\")\n",
    "else:\n",
    "    price_per_person = total / persons\n",
    "    print(\"인당 가격 : \", price_per_person)"
   ]
  },
  {
   "cell_type": "code",
   "execution_count": 5,
   "metadata": {},
   "outputs": [
    {
     "name": "stdout",
     "output_type": "stream",
     "text": [
      "north america\n",
      "south korea\n",
      "japan\n"
     ]
    }
   ],
   "source": [
    "# 문자열 정리하기(1)\n",
    "a = '     North America'\n",
    "b = 'SOUTH KOREA       '\n",
    "c = '   japan          '\n",
    "\n",
    "print(a.strip().lower())\n",
    "print(b.strip().lower())\n",
    "print(c.strip().lower())"
   ]
  },
  {
   "cell_type": "code",
   "execution_count": 6,
   "metadata": {},
   "outputs": [
    {
     "name": "stdout",
     "output_type": "stream",
     "text": [
      "Juhyun Kim\n",
      "3\n",
      "3\n",
      "j5hy5n k3m\n",
      "j5hy5n k3m\n"
     ]
    }
   ],
   "source": [
    "# 문자열 정리하기(2)\n",
    "first_name = input()\n",
    "last_name = input()\n",
    "\n",
    "# 1. 이름과 성의 첫 문자를 대문자로 변환하고 하나로 합쳐 출력하기\n",
    "full_name = first_name.strip().lower().capitalize() + \" \" + last_name.strip().lower().capitalize()\n",
    "print(full_name)\n",
    "\n",
    "# 2. 이름에 모음이 몇개인지 출력하기 - count() 함수를 이용\n",
    "full_name_lower = full_name.lower()\n",
    "vowels_count = full_name_lower.count(\"a\") + full_name_lower.count(\"e\") + full_name_lower.count(\"i\") + full_name_lower.count(\"o\") + full_name_lower.count(\"u\")\n",
    "print(vowels_count)\n",
    "\n",
    "# 2. 이름에 모음이 몇개인지 출력하기 - for 문을 이용\n",
    "vowels = \"aeiouAEIOU\"\n",
    "vowels_count = 0\n",
    "\n",
    "for char in full_name:\n",
    "    if char in vowels:\n",
    "        vowels_count += 1\n",
    "\n",
    "print(vowels_count)\n",
    "\n",
    "# 3. 모음을 모두 숫자로 대체하기 - replace() 함수를 이용\n",
    "replaced_full_name = full_name_lower.replace(\"a\", \"1\").replace(\"e\", \"2\").replace(\"i\", \"3\").replace(\"o\", \"4\").replace(\"u\", \"5\")\n",
    "print(replaced_full_name)\n",
    "\n",
    "# 3. 모음을 모두 숫자로 대체하기 - for 문과 딕셔너리를 이용\n",
    "vowels_dict = {'a':'1', 'e':'2', 'i':'3', 'o':'4', 'u':'5'}\n",
    "replaced_full_name = \"\"\n",
    "\n",
    "for char in full_name_lower:\n",
    "    if char in vowels_dict:\n",
    "        replaced_full_name += vowels_dict[char]\n",
    "    else:\n",
    "        replaced_full_name += char\n",
    "\n",
    "print(replaced_full_name)"
   ]
  },
  {
   "cell_type": "code",
   "execution_count": 7,
   "metadata": {},
   "outputs": [
    {
     "name": "stdout",
     "output_type": "stream",
     "text": [
      "1\n",
      "['Harry', 'Ron', 'Hermione', 'Draco', 'Neville']\n",
      "['Harry', 'Ron', 'Hermione', 'Draco', 'Neville', 'Luna']\n"
     ]
    }
   ],
   "source": [
    "# 파티 초대장 만들기\n",
    "party_list = ['Harry', 'Ron', 'Hermione', 'Draco', 'Severus', 'Neville']\n",
    "name = input()\n",
    "\n",
    "try:\n",
    "    print(party_list.index(name))\n",
    "except ValueError:\n",
    "    print(f\"입력한 이름 {name}은 파티 명부에 없습니다.\")\n",
    "except Exception as e:\n",
    "    raise Exception(f\"예외 발생 : {e}\")\n",
    "\n",
    "party_list.remove('Severus')\n",
    "# del party_list[party_list.index('Severus')]\n",
    "print(party_list)\n",
    "\n",
    "party_list.append('Luna')\n",
    "print(party_list)"
   ]
  },
  {
   "cell_type": "code",
   "execution_count": 8,
   "metadata": {},
   "outputs": [
    {
     "name": "stdout",
     "output_type": "stream",
     "text": [
      "None\n",
      "{'Harry Poter': 'Gryffindor', 'Luna Lovegood': 'Ravenclaw', 'Cedric Diggory': 'Hufflepuff', 'Draco Malfoy': 'Slytherin', 'Ron Weasley': 'Slytherin', 'Hermione Granger': 'Gryffindor'}\n",
      "{'Harry Poter': 'Gryffindor', 'Luna Lovegood': 'Ravenclaw', 'Cedric Diggory': 'Hufflepuff', 'Draco Malfoy': 'Slytherin', 'Ron Weasley': 'Gryffindor', 'Hermione Granger': 'Gryffindor'}\n"
     ]
    }
   ],
   "source": [
    "# 딕셔너리 생성하기\n",
    "house_dict = {\n",
    "\t'Harry Poter': 'Gryffindor', \n",
    "\t'Luna Lovegood': 'Ravenclaw', \n",
    "\t'Cedric Diggory': 'Hufflepuff',\n",
    "\t'Draco Malfoy': 'Slytherin',\n",
    "\t'Ron Weasley': 'Slytherin'\n",
    "\t} \n",
    "\n",
    "name = input()\n",
    "\n",
    "# get 함수를 활용한 안전한 호출 - Exception 발생하지 않음. \n",
    "print(house_dict.get(name))\n",
    "\n",
    "# try:\n",
    "#     print(house_dict[name])\n",
    "# except KeyError:\n",
    "#     print(f\"입력한 이름 {name}은 기숙사 명부에 없습니다.\")\n",
    "# except Exception as e:\n",
    "#     raise Exception(f\"예외 발생 : {e}\")\n",
    "\n",
    "house_dict['Hermione Granger'] = 'Gryffindor'\n",
    "print(house_dict)\n",
    "\n",
    "house_dict['Ron Weasley'] = 'Gryffindor'\n",
    "print(house_dict)"
   ]
  }
 ],
 "metadata": {
  "kernelspec": {
   "display_name": "venv",
   "language": "python",
   "name": "python3"
  },
  "language_info": {
   "codemirror_mode": {
    "name": "ipython",
    "version": 3
   },
   "file_extension": ".py",
   "mimetype": "text/x-python",
   "name": "python",
   "nbconvert_exporter": "python",
   "pygments_lexer": "ipython3",
   "version": "3.11.4"
  }
 },
 "nbformat": 4,
 "nbformat_minor": 2
}
