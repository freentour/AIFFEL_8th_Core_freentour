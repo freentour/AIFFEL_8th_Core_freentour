{
 "cells": [
  {
   "cell_type": "code",
   "execution_count": 2,
   "metadata": {},
   "outputs": [
    {
     "name": "stdout",
     "output_type": "stream",
     "text": [
      "파티 명부:  ['김융웅', '강신강', '김주현']\n",
      "파티 초대 인원:  3\n",
      "강신강을 파티 명부에서 삭제하였습니다.\n",
      "최종 파티 명부:  ['김융웅', '김주현']\n"
     ]
    }
   ],
   "source": [
    "# 파티에 초대할 사람의 이름을 입력으로 받음\n",
    "# 사용자가 'n'을 입력할 때까지 리스트에 이름을 추가\n",
    "# 사용자가 'n'을 입력하면 파티에 초대한 사람 이름 리스트와 초대한 사람이 총 몇 명인지 표시\n",
    "party_list = []\n",
    "\n",
    "while True:\n",
    "    name = input(\"파티에 초대할 사람의 이름을 입력해 주세요 (중지: 'n' 입력): \")\n",
    "\n",
    "    if name == 'n':\n",
    "        break\n",
    "    else:\n",
    "        party_list.append(name)\n",
    "\n",
    "print(\"파티 명부: \", party_list)\n",
    "print(\"파티 초대 인원: \", len(party_list))\n",
    "\n",
    "# 리스트에 있는 이름 들 중 하나를 입력으로 받으면\n",
    "# 정말로 파티에 초대할 것인지 묻고\n",
    "# n이라고 답하면 리스트에서 항목을 삭제하고 리스트를 다시 출력하기\n",
    "confirm_name = input(\"파티 명부에 포함된 사람 중 한 명의 이름을 입력해 주세요: \")\n",
    "\n",
    "if confirm_name not in party_list:\n",
    "    print(f\"입력한 이름 {confirm_name}은 파티 명부에 없는 이름입니다.\")\n",
    "else:\n",
    "    confirm = input(f\"{confirm_name}을 정말로 파티에 초대할까요? (초대하지 않는 경우에는 'n' 입력): \")\n",
    "\n",
    "    if confirm == 'n':\n",
    "        party_list.remove(confirm_name)\n",
    "        print(f\"{confirm_name}을 파티 명부에서 삭제하였습니다.\")\n",
    "    else:\n",
    "        print(f\"{confirm_name}의 파티 초대를 확정합니다.\")\n",
    "\n",
    "print(\"최종 파티 명부: \", party_list)"
   ]
  },
  {
   "cell_type": "code",
   "execution_count": 11,
   "metadata": {},
   "outputs": [
    {
     "name": "stdout",
     "output_type": "stream",
     "text": [
      "나이: 55, 신발 사이즈: 260\n",
      "이름: 김융웅, 나이: 85\n",
      "이름: 강신강, 나이: 81\n",
      "이름: 김주현, 나이: 55\n",
      "이름: 김순주, 나이: 51\n",
      "이름: 김융웅, 나이: 85, 신발 사이즈: 255\n",
      "이름: 김주현, 나이: 55, 신발 사이즈: 260\n",
      "이름: 김순주, 나이: 51, 신발 사이즈: 245\n"
     ]
    }
   ],
   "source": [
    "# 네 명의 이름, 나이, 신발 사이즈 입력\n",
    "# 1. 입력된 이름들 중 하나를 입력하라고 요청, 입력된 이름의 나이와 신발 사이즈 출력\n",
    "# 2. 모든 사람의 이름과 나이를 출력하지만 신발 사이즈는 출력하지 않음\n",
    "# 3. 목록에서 제거하고 싶은 사람의 이름을 입력하라고 요청, 입력된 이름의 데이터를 삭제하고 나머지 데이터를 한 줄에 하나씩 출력\n",
    "personal_info_list = []\n",
    "\n",
    "for i in range(4):\n",
    "    name = input(\"이름을 입력해 주세요 : \")\n",
    "    age = int(input(\"나이를 입력해 주세요 : \"))\n",
    "    size = int(input(\"신발 사이즈를 입력해 주세요 : \"))\n",
    "    personal_info = {}\n",
    "    personal_info['name'] = name\n",
    "    personal_info['age'] = age\n",
    "    personal_info['size'] = size\n",
    "    personal_info_list.append(personal_info)\n",
    "\n",
    "name = input(\"입력된 이름 중 하나를 입력해 주세요. : \")\n",
    "search_flag = False\n",
    "\n",
    "for personal_info in personal_info_list:\n",
    "    if personal_info['name'] == name:\n",
    "        print(f\"나이: {personal_info['age']}, 신발 사이즈: {personal_info['size']}\")\n",
    "        search_flag = True\n",
    "        break\n",
    "\n",
    "if not search_flag:\n",
    "    print(f\"입력한 이름 {name}은 리스트에 없습니다.\")\n",
    "\n",
    "for personal_info in personal_info_list:\n",
    "    print(f\"이름: {personal_info['name']}, 나이: {personal_info['age']}\")\n",
    "\n",
    "remove_name = input(\"리스트에서 삭제하고 싶은 이름을 입력해 주세요 : \")\n",
    "\n",
    "for personal_info in personal_info_list:\n",
    "    if personal_info['name'] == remove_name:\n",
    "        personal_info_list.remove(personal_info)\n",
    "\n",
    "for personal_info in personal_info_list:\n",
    "    print(f\"이름: {personal_info['name']}, 나이: {personal_info['age']}, 신발 사이즈: {personal_info['size']}\")"
   ]
  },
  {
   "cell_type": "code",
   "execution_count": 13,
   "metadata": {},
   "outputs": [
    {
     "name": "stdout",
     "output_type": "stream",
     "text": [
      "나이: 81, 신발 사이즈: 240\n",
      "이름: 김융웅, 나이: 85\n",
      "이름: 강신강, 나이: 81\n",
      "이름: 김주현, 나이: 55\n",
      "이름: 김순주, 나이: 51\n",
      "이름: 김융웅, 나이: 85, 신발 사이즈: 255\n",
      "이름: 강신강, 나이: 81, 신발 사이즈: 240\n",
      "이름: 김순주, 나이: 51, 신발 사이즈: 245\n"
     ]
    }
   ],
   "source": [
    "personal_info_dict = {}\n",
    "\n",
    "for i in range(4):\n",
    "    name = input(\"이름을 입력해 주세요 : \")\n",
    "    age = int(input(\"나이를 입력해 주세요 : \"))\n",
    "    size = int(input(\"신발 사이즈를 입력해 주세요 : \"))\n",
    "    personal_info_dict[name] = (age, size)\n",
    "\n",
    "name = input(\"입력된 이름 중 하나를 입력해 주세요. : \")\n",
    "\n",
    "if name in personal_info_dict.keys():\n",
    "    print(f\"나이: {personal_info_dict[name][0]}, 신발 사이즈: {personal_info_dict[name][1]}\")\n",
    "else:\n",
    "    print(f\"입력한 이름 {name}은 명부에 없습니다.\")\n",
    "\n",
    "for key, value in personal_info_dict.items():\n",
    "    print(f\"이름: {key}, 나이: {value[0]}\")\n",
    "\n",
    "remove_name = input(\"리스트에서 삭제하고 싶은 이름을 입력해 주세요 : \")\n",
    "\n",
    "if remove_name in personal_info_dict.keys():\n",
    "    del personal_info_dict[remove_name]\n",
    "else:\n",
    "    print(f\"삭제하려는 이름 {remove_name}은 명부에 없습니다.\")\n",
    "\n",
    "for key, value in personal_info_dict.items():\n",
    "    print(f\"이름: {key}, 나이: {value[0]}, 신발 사이즈: {value[1]}\")"
   ]
  },
  {
   "cell_type": "code",
   "execution_count": 14,
   "metadata": {},
   "outputs": [
    {
     "name": "stdout",
     "output_type": "stream",
     "text": [
      "최고 점수 : 90\n",
      "최저 점수 : 80\n",
      "평균 점수 : 85.0\n"
     ]
    }
   ],
   "source": [
    "# 학생의 시험 점수를 입력으로 받아 딕셔너리에 저장.\n",
    "# 최저 점수의 과목과 최고 점수의 과목, 그리고 평균 점수를 출력하도록 하는 프로그램\n",
    "score_dict = {}\n",
    "\n",
    "kor = int(input(\"국어 과목의 점수 : \"))\n",
    "eng = int(input(\"영어 과목의 점수 : \"))\n",
    "math = int(input(\"수학 과목의 점수 : \"))\n",
    "score_dict['국어'] = kor\n",
    "score_dict['영어'] = eng\n",
    "score_dict['수학'] = math\n",
    "\n",
    "lowest = highest = score_dict['국어']   # 초기값\n",
    "total = 0\n",
    "\n",
    "for score in score_dict.values():\n",
    "    if score < lowest:\n",
    "        lowest = score\n",
    "    elif score > highest:\n",
    "        highest = score\n",
    "    \n",
    "    total += score\n",
    "\n",
    "mean = total / len(score_dict)\n",
    "\n",
    "print(f\"최고 점수 : {highest}\")\n",
    "print(f\"최저 점수 : {lowest}\")\n",
    "print(f\"평균 점수 : {mean}\")"
   ]
  },
  {
   "cell_type": "code",
   "execution_count": 39,
   "metadata": {},
   "outputs": [
    {
     "name": "stdout",
     "output_type": "stream",
     "text": [
      "입력한 숫자 123는 5자리가 아닙니다.\n",
      "정답: 56993\n",
      "입력: 12345\n",
      "-> 0 strike 2 ball\n"
     ]
    }
   ],
   "source": [
    "# 5자리의 정답 숫자가 있음\n",
    "# 사용자에게 5자리 숫자 입력 받음\n",
    "# 입력받은 숫자 중에 랜덤 숫자와 숫자만 일치하는 경우는 ball, 숫자와 위치까지 일치하는 경우는 strike 출력\n",
    "import random\n",
    "\n",
    "answer_number = str(random.randint(10000, 99999))   # 5자리의 난수를 생성\n",
    "\n",
    "while True:\n",
    "    input_number = input(\"5자리의 숫자를 입력해 주세요 : \")\n",
    "\n",
    "    if len(input_number) != 5:\n",
    "        print(f\"입력한 숫자 {input_number}는 5자리가 아닙니다.\")\n",
    "        continue\n",
    "    else:\n",
    "        break\n",
    "\n",
    "print(f\"정답: {answer_number}\")\n",
    "print(f\"입력: {input_number}\")\n",
    "\n",
    "strike = 0\n",
    "ball = 0\n",
    "\n",
    "for index, number in enumerate(input_number):\n",
    "    if number in answer_number and number == answer_number[index]:\n",
    "        strike += 1\n",
    "    elif number in answer_number and number != answer_number[index]:\n",
    "        ball += 1\n",
    "\n",
    "print(f\"-> {strike} strike {ball} ball\")"
   ]
  }
 ],
 "metadata": {
  "kernelspec": {
   "display_name": "venv",
   "language": "python",
   "name": "python3"
  },
  "language_info": {
   "codemirror_mode": {
    "name": "ipython",
    "version": 3
   },
   "file_extension": ".py",
   "mimetype": "text/x-python",
   "name": "python",
   "nbconvert_exporter": "python",
   "pygments_lexer": "ipython3",
   "version": "3.11.4"
  }
 },
 "nbformat": 4,
 "nbformat_minor": 2
}
