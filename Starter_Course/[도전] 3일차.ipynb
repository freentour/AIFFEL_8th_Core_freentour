{
 "cells": [
  {
   "cell_type": "code",
   "execution_count": 5,
   "metadata": {},
   "outputs": [
    {
     "data": {
      "text/plain": [
       "55.0"
      ]
     },
     "execution_count": 5,
     "metadata": {},
     "output_type": "execute_result"
    }
   ],
   "source": [
    "# 덧셈 계산기\n",
    "def add(*values):\n",
    "    output = 0\n",
    "\n",
    "    for num in values:\n",
    "        # output += num\n",
    "        # 숫자인 경우만 덧셈에 추가 (complex 타입은 복소수)\n",
    "        if isinstance(num, (int, float, complex)):\n",
    "            output += num\n",
    "        else:\n",
    "            pass\n",
    "    \n",
    "    return output\n",
    "\n",
    "add(1,2,3.0,4,5,6,\"6\",\"a\",7,8,9,10)"
   ]
  },
  {
   "cell_type": "code",
   "execution_count": 33,
   "metadata": {},
   "outputs": [
    {
     "name": "stdout",
     "output_type": "stream",
     "text": [
      "up-down 게임을 시작합니다.\n",
      "down\n",
      "down\n",
      "down\n",
      "down\n",
      "down\n",
      "정수만 입력할 수 있습니다. 다시 입력해 주세요.\n",
      "정답입니다!\n",
      "정답 : 2\n",
      "게임을 종료합니다.\n"
     ]
    }
   ],
   "source": [
    "# up-down 게임\n",
    "import random\n",
    "\n",
    "print(\"up-down 게임을 시작합니다.\")\n",
    "\n",
    "# 1~10 사이의 랜덤 숫자 생성\n",
    "answer_num = random.randint(1, 100)\n",
    "\n",
    "while True:\n",
    "    input_str = input(\"정답을 맞춰보세요. 1~100 사이 정수만 입력. 게임종료(n)\")\n",
    "\n",
    "    if input_str == 'n':\n",
    "        break\n",
    "    else:\n",
    "        # 정수가 아닌 값이 입력될 수 있으므로 예외 처리\n",
    "        try:\n",
    "            input_num = int(input_str)\n",
    "        except ValueError:\n",
    "            print(\"정수만 입력할 수 있습니다. 다시 입력해 주세요.\")\n",
    "            continue\n",
    "        # 문자열 객체에서 사용할 수 있는 isdecimal() 메소드를 활용해서 체크해도 됨\n",
    "        # if input_str.isdecimal():     # 십진수이면\n",
    "        #     input_num = int(input_str)\n",
    "        # else:\n",
    "        #     print(\"정수만 입력할 수 있습니다. 다시 입력해 주세요.\")\n",
    "        #     continue\n",
    "\n",
    "        if input_num < answer_num:\n",
    "            print(\"up\")\n",
    "        elif input_num > answer_num:\n",
    "            print(\"down\")\n",
    "        else:\n",
    "            print(\"정답입니다!\")\n",
    "            print(f\"정답 : {answer_num}\")\n",
    "            break\n",
    "\n",
    "print(\"게임을 종료합니다.\")"
   ]
  },
  {
   "cell_type": "code",
   "execution_count": 50,
   "metadata": {},
   "outputs": [
    {
     "name": "stdout",
     "output_type": "stream",
     "text": [
      "120\n"
     ]
    }
   ],
   "source": [
    "# 팩토리얼 구하기(재귀함수)\n",
    "def fac(n):\n",
    "    # 1 이상의 정수인 경우만 계산 가능\n",
    "    if type(n) == int and n >= 1:\n",
    "    # 5.0과 같이 타입은 float이지만 실제 값이 정수인 경우도 포함하려면 다음과 같이 비교해도 됨. \n",
    "    # if isinstance(n, (int, float)) and n % 1 == 0:\n",
    "        if n >= 2:\n",
    "            output = n\n",
    "            output *= fac(n-1)\n",
    "        elif n == 1:\n",
    "            output = 1\n",
    "        \n",
    "        return output\n",
    "    else:\n",
    "        print(\"입력값은 1 이상의 정수여야 합니다.\")\n",
    "\n",
    "n = 5\n",
    "print(fac(n))"
   ]
  }
 ],
 "metadata": {
  "kernelspec": {
   "display_name": "venv",
   "language": "python",
   "name": "python3"
  },
  "language_info": {
   "codemirror_mode": {
    "name": "ipython",
    "version": 3
   },
   "file_extension": ".py",
   "mimetype": "text/x-python",
   "name": "python",
   "nbconvert_exporter": "python",
   "pygments_lexer": "ipython3",
   "version": "3.11.4"
  }
 },
 "nbformat": 4,
 "nbformat_minor": 2
}
