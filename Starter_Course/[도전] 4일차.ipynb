{
 "cells": [
  {
   "cell_type": "code",
   "execution_count": 6,
   "metadata": {},
   "outputs": [
    {
     "name": "stdout",
     "output_type": "stream",
     "text": [
      "저의 이름은 해리포터이고, 나이는 18세이며, 성별은 남성입니다.\n",
      "저의 이름은 해리포터이고, 나이는 12세이며, 성별은 남성이고, 배정받은 기숙사는 그리핀도르입니다.\n"
     ]
    }
   ],
   "source": [
    "# 사람 클래스를 만들어 봅시다. \n",
    "# 사람 클래스는 이름, 나이, 성별이라는 정보(속성)을 가지고 있습니다.\n",
    "# 사람 클래스는 소개라는 동작(메서드)도 가지고 있습니다. 소개라는 동작은 이름, 나이, 성별을 출력하는 기능을 합니다.\n",
    "# 사람 클래스를 만들었으면 해리포터, 18세, 남성이라는 속성을 가진 인스턴스를 생성해봅시다.\n",
    "import random\n",
    "\n",
    "class Human:\n",
    "    def __init__(self, name='', age=0, gender='미결정'):\n",
    "        self.name = name\n",
    "        self.age = age\n",
    "        self.gender = gender\n",
    "\n",
    "    def intro(self):\n",
    "        msg = f\"저의 이름은 {self.name}이고, 나이는 {self.age}세이며, 성별은 {self.gender}입니다.\"\n",
    "        return msg\n",
    "\n",
    "harry = Human('해리포터', 18, '남성')\n",
    "print(harry.intro())\n",
    "\n",
    "# 사람 클래스를 상속 받는 마법사 클래스를 만들어 봅시다.\n",
    "# 마법사 클래스는 추가적으로 기숙사(그리핀도르, 슬리데린, 래번클로, 후플푸프)의 속성을 가집니다. \n",
    "# 마법사 클래스의 소개 메서드는 기숙사 정보까지 출력하도록 오버라이드해주세요.\n",
    "class Magician(Human):\n",
    "    def __init__(self, name='', age=0, gender='미결정'):\n",
    "        super().__init__(name, age, gender)\n",
    "        houses = ['그리핀도르', '슬리데린', '래번클로', '후플푸프']\n",
    "        self.house = random.choice(houses)  # self.house 속성 추가\n",
    "    \n",
    "    def intro(self):    # 부모 클래스의 intro 메서드 overriding\n",
    "        msg = f\"저의 이름은 {self.name}이고, 나이는 {self.age}세이며, 성별은 {self.gender}이고, 배정받은 기숙사는 {self.house}입니다.\"\n",
    "        return msg\n",
    "\n",
    "# 마법사 클래스를 만들었다면, \n",
    "# 사용자로부터 이름, 나이, 성별을 입력 받아 기숙사를 랜덤 배정해서 마법사 인스턴스를 생성하는 마법 모자 프로그램을 만들어봅시다!\n",
    "def get_inputs():\n",
    "    name = input(\"이름 : \")\n",
    "    age = int(input(\"나이 : \"))\n",
    "    gender = input(\"성별 : \")\n",
    "\n",
    "    return name, age, gender\n",
    "\n",
    "def main():\n",
    "    name, age, gender = get_inputs()\n",
    "    my_magician = Magician(name, age, gender)\n",
    "    print(my_magician.intro())\n",
    "\n",
    "# 스크립트를 직접 실행하는 경우에만 __name__ 변수가 '__main__'이 됨. \n",
    "# 해당 스크립트를 다른 스크립트에 의해 모듈로 가져오는 경우에는 __name__ 변수는 해당 스크립트의 파일 이름이 됨. (예: 파일이름.py)\n",
    "if __name__ == '__main__':\n",
    "    main()"
   ]
  }
 ],
 "metadata": {
  "kernelspec": {
   "display_name": "venv",
   "language": "python",
   "name": "python3"
  },
  "language_info": {
   "codemirror_mode": {
    "name": "ipython",
    "version": 3
   },
   "file_extension": ".py",
   "mimetype": "text/x-python",
   "name": "python",
   "nbconvert_exporter": "python",
   "pygments_lexer": "ipython3",
   "version": "3.11.4"
  }
 },
 "nbformat": 4,
 "nbformat_minor": 2
}
